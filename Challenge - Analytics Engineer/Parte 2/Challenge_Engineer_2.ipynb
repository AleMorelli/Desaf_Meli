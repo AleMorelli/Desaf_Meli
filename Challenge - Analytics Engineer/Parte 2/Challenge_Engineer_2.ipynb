{
  "nbformat": 4,
  "nbformat_minor": 0,
  "metadata": {
    "colab": {
      "provenance": []
    },
    "kernelspec": {
      "name": "python3",
      "display_name": "Python 3"
    },
    "language_info": {
      "name": "python"
    }
  },
  "cells": [
    {
      "cell_type": "code",
      "source": [
        "import requests\n",
        "import pandas as pd"
      ],
      "metadata": {
        "id": "Ej0wWlFvEfk1"
      },
      "execution_count": 14,
      "outputs": []
    },
    {
      "cell_type": "code",
      "execution_count": 4,
      "metadata": {
        "id": "FE_PoIVY1ulD"
      },
      "outputs": [],
      "source": [
        "def get_item(item):\n",
        "\n",
        "  url = f\"https://api.mercadolibre.com/sites/MLA/search?q={item}&limit=50\"#agrear variable\n",
        "\n",
        "  # Realizar la solicitud HTTP\n",
        "  response = requests.get(url)\n",
        "\n",
        "  # Verificar si la solicitud fue exitosa\n",
        "  if response.status_code == 200:\n",
        "    # Obtener los datos en formato JSON\n",
        "    data = response.json()\n",
        "\n",
        "    # Convertir los datos en un DataFrame de pandas\n",
        "    df = pd.DataFrame(data['results'])\n",
        "\n",
        "    # Seleccionar las columnas de interés\n",
        "    df = df[['id', 'title', 'price', 'currency_id', 'available_quantity', 'condition']]\n",
        "\n",
        "    all_product_details = []\n",
        "\n",
        "    # Iterar sobre los resultados y realizar una solicitud GET para cada Item_ID\n",
        "    for result in data['results']:\n",
        "        item_id = result['id']\n",
        "        item_url = f\"https://api.mercadolibre.com/items/{item_id}\"\n",
        "        item_response = requests.get(item_url)\n",
        "        if item_response.status_code == 200:\n",
        "            item_data = item_response.json()\n",
        "            all_product_details.append(item_data)\n",
        "        else:\n",
        "            print(f\"Error al obtener detalles para el Item_ID {item_id}\")\n",
        "\n",
        "    df_2 = pd.DataFrame(all_product_details)\n",
        "\n",
        "    # Exportar el DataFrame a un archivo CSV\n",
        "    df_2.to_csv(f'productos_{item}_detalles.csv', index=False)\n",
        "\n",
        "    # Exportar el DataFrame a un archivo CSV\n",
        "    df.to_csv(f'productos_{item}.csv', index=False)\n",
        "\n",
        "    print(f\"Los datos se han exportado exitosamente a productos_{item}.csv\")\n",
        "    print(f\"Los datos se han exportado exitosamente a productos_{item}_detalles.csv\")\n",
        "  else:\n",
        "    print(\"Error al realizar la solicitud HTTP:\", response.status_c\n"
      ]
    },
    {
      "cell_type": "code",
      "source": [
        "productos = [\"chromecast\",\"appletv\",\"googlehome\"]\n",
        "\n",
        "for i in productos:\n",
        "  get_item(i)"
      ],
      "metadata": {
        "colab": {
          "base_uri": "https://localhost:8080/"
        },
        "id": "puxciz_sBVEm",
        "outputId": "e826e951-8d3b-4cfa-d63a-9d37e84145f6"
      },
      "execution_count": 5,
      "outputs": [
        {
          "output_type": "stream",
          "name": "stdout",
          "text": [
            "Los datos se han exportado exitosamente a productos_chromecast.csv\n",
            "Los datos se han exportado exitosamente a productos_chromecast_detalles.csv\n",
            "Los datos se han exportado exitosamente a productos_appletv.csv\n",
            "Los datos se han exportado exitosamente a productos_appletv_detalles.csv\n",
            "Los datos se han exportado exitosamente a productos_googlehome.csv\n",
            "Los datos se han exportado exitosamente a productos_googlehome_detalles.csv\n"
          ]
        }
      ]
    },
    {
      "cell_type": "code",
      "source": [
        "#Análisis Exploratorio\n",
        "\n",
        "def explore(item):\n",
        "\n",
        "  df = pd.read_csv(f'productos_{item}_detalles.csv')\n",
        "\n",
        "  file = f'analisis_{item}.txt'\n",
        "  with open(file, 'w') as sourceFile:\n",
        "\n",
        "    # Mostrar las primeras filas del DataFrame\n",
        "    print(\"Primeras filas del DataFrame:\", file = sourceFile)\n",
        "    print(df.head(), file = sourceFile)\n",
        "\n",
        "    # Resumen estadístico de las columnas numéricas\n",
        "    print(\"\\nResumen estadístico de las columnas numéricas:\", file = sourceFile)\n",
        "    df2 = df[['price','base_price','original_price','initial_quantity']]\n",
        "    print(df2.describe(), file = sourceFile)\n",
        "\n",
        "    # Información sobre las columnas y los tipos de datos\n",
        "    print(\"\\nInformación sobre las columnas y los tipos de datos:\", file = sourceFile)\n",
        "    print(df.info(), file = sourceFile)\n",
        "\n",
        "    # Conteo de valores únicos en cada columna\n",
        "    print(\"\\nConteo de valores únicos en cada columna:\", file = sourceFile)\n",
        "    print(df.nunique(), file = sourceFile)\n",
        "\n",
        "    # Verificar valores nulos o faltantes en el DataFrame\n",
        "    print(\"\\nValores nulos o faltantes en el DataFrame:\", file = sourceFile)\n",
        "    print(df.isnull().sum(), file = sourceFile)\n",
        "    sourceFile.close()\n",
        "\n",
        "  #En este punto podrían visualizarse series temporales, si las hubiera dentro del dataset\n",
        "  #o, como en este ejemplo, un histograma sobre la concentración de precios\n",
        "  import matplotlib.pyplot as plt\n",
        "  plt.hist(df['price'], alpha=0.5, label='Precio', color='blue')\n",
        "  plt.title('Precio')\n",
        "  plt.xlabel('Valor')\n",
        "  plt.ylabel('Frecuencia')\n",
        "  plt.savefig(f'Grafico_Precios_{item}.jpg')\n",
        "  plt.show()\n",
        "\n"
      ],
      "metadata": {
        "id": "s30aN4YgCFOd"
      },
      "execution_count": 46,
      "outputs": []
    },
    {
      "cell_type": "code",
      "source": [
        "for i in productos:\n",
        "  explore(i)"
      ],
      "metadata": {
        "id": "Z1cKkQzf1Mi0"
      },
      "execution_count": null,
      "outputs": []
    },
    {
      "cell_type": "code",
      "source": [
        "#también puede utilizarse la herramienta profile_report() de pandas.profiling para realizar un primer análisis exploratorio sin ningún\n",
        "#tipo de orientación específica"
      ],
      "metadata": {
        "id": "Lqqlshhx4l1a"
      },
      "execution_count": null,
      "outputs": []
    }
  ]
}
